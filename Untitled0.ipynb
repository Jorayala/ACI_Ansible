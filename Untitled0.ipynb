{
  "nbformat": 4,
  "nbformat_minor": 0,
  "metadata": {
    "colab": {
      "provenance": [],
      "authorship_tag": "ABX9TyPV5qFEXb1lOLj0ebpZZ8GH",
      "include_colab_link": true
    },
    "kernelspec": {
      "name": "python3",
      "display_name": "Python 3"
    },
    "language_info": {
      "name": "python"
    }
  },
  "cells": [
    {
      "cell_type": "markdown",
      "metadata": {
        "id": "view-in-github",
        "colab_type": "text"
      },
      "source": [
        "<a href=\"https://colab.research.google.com/github/Jorayala/ACI_Ansible/blob/master/Untitled0.ipynb\" target=\"_parent\"><img src=\"https://colab.research.google.com/assets/colab-badge.svg\" alt=\"Open In Colab\"/></a>"
      ]
    },
    {
      "cell_type": "markdown",
      "source": [
        "Importamos libreria Numpy"
      ],
      "metadata": {
        "id": "EenDCwYAIjVa"
      }
    },
    {
      "cell_type": "code",
      "execution_count": 1,
      "metadata": {
        "id": "WaqcVMIQIbzg"
      },
      "outputs": [],
      "source": [
        "import numpy as np"
      ]
    },
    {
      "cell_type": "markdown",
      "source": [
        "Ingresamos un sistema de ecuaciones lineales"
      ],
      "metadata": {
        "id": "cX8hbTWYIrK3"
      }
    },
    {
      "cell_type": "code",
      "source": [
        "A = np.array([\n",
        "        [2, -1, 1, 1],\n",
        "        [1, 2, -1, -1],\n",
        "        [-1, 2, 2, 2],\n",
        "        [1, -1, 2, 1]\n",
        "    ], dtype=np.dtype(float))\n",
        "b = np.array([6, 3, 14, 8], dtype=np.dtype(float))\n"
      ],
      "metadata": {
        "id": "x-IrBfZ0IqAg"
      },
      "execution_count": 2,
      "outputs": []
    },
    {
      "cell_type": "code",
      "source": [],
      "metadata": {
        "id": "p8PCMWTFI7rC"
      },
      "execution_count": null,
      "outputs": []
    }
  ]
}